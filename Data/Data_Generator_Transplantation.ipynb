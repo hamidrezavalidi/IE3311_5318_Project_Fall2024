{
 "cells": [
  {
   "cell_type": "code",
   "execution_count": 32,
   "id": "e077afe0",
   "metadata": {},
   "outputs": [],
   "source": [
    "# Creating Transplantation Data for the KPD Project\n",
    "import random\n",
    "import json\n",
    "\n",
    "n = 1000\n",
    "Blood = ['A', 'B', 'AB', 'O']\n",
    "Compatible_Blood_Type = {'O': ['O'], 'A': ['A', 'O'], 'B': ['B', 'O'], 'AB': ['A', 'B', 'AB', 'O']}\n",
    "Data = []\n",
    "\n",
    "for counter in range(n):\n",
    "    num = 5\n",
    "    dictionary = {'Recipient': random.choice(Blood), 'Donor': list(set(random.choices(Blood, k=num)))}\n",
    "    Data.append(dictionary)\n",
    "    \n",
    "# Fix the data dictionary\n",
    "Bad_pairs = []\n",
    "\n",
    "for pair in Data:\n",
    "    r_blood = pair['Recipient']\n",
    "    d_blood = set(pair['Donor'])\n",
    "    for donor in pair['Donor']:\n",
    "        if donor in Compatible_Blood_Type[r_blood]:\n",
    "            d_blood.discard(donor) \n",
    "    pair['Donor'] = list(d_blood)\n",
    "    if not list(d_blood):\n",
    "        Bad_pairs.append(pair)\n",
    "        \n",
    "Good_pairs = [pair for pair in Data if pair not in Bad_pairs]       \n",
    "    \n",
    "# Specify the filename\n",
    "filename = \"FC_Dallas.json\"\n",
    "    \n",
    "# Write data to the file\n",
    "with open(filename, \"w\") as f:\n",
    "    json.dump(Good_pairs, f, indent=4)  # indent for pretty formatting"
   ]
  },
  {
   "cell_type": "code",
   "execution_count": 36,
   "id": "2cdc45f9",
   "metadata": {},
   "outputs": [
    {
     "name": "stdout",
     "output_type": "stream",
     "text": [
      "{'A'}\n"
     ]
    }
   ],
   "source": []
  },
  {
   "cell_type": "code",
   "execution_count": null,
   "id": "f75c7842",
   "metadata": {},
   "outputs": [],
   "source": []
  },
  {
   "cell_type": "code",
   "execution_count": null,
   "id": "7e25855e",
   "metadata": {},
   "outputs": [],
   "source": []
  }
 ],
 "metadata": {
  "kernelspec": {
   "display_name": "Python 3 (ipykernel)",
   "language": "python",
   "name": "python3"
  },
  "language_info": {
   "codemirror_mode": {
    "name": "ipython",
    "version": 3
   },
   "file_extension": ".py",
   "mimetype": "text/x-python",
   "name": "python",
   "nbconvert_exporter": "python",
   "pygments_lexer": "ipython3",
   "version": "3.9.13"
  }
 },
 "nbformat": 4,
 "nbformat_minor": 5
}
